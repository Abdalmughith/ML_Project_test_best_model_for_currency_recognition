{
  "nbformat": 4,
  "nbformat_minor": 0,
  "metadata": {
    "colab": {
      "name": "ML-Project test best model for currency recognition.ipynb",
      "provenance": [],
      "include_colab_link": true
    },
    "kernelspec": {
      "display_name": "Python 3",
      "language": "python",
      "name": "python3"
    }
  },
  "cells": [
    {
      "cell_type": "markdown",
      "metadata": {
        "id": "view-in-github",
        "colab_type": "text"
      },
      "source": [
        "<a href=\"https://colab.research.google.com/github/Abdalmughith/ML_Project_test_best_model_for_currency_recognition/blob/master/ML_Project_test_best_model_for_currency_recognition.ipynb\" target=\"_parent\"><img src=\"https://colab.research.google.com/assets/colab-badge.svg\" alt=\"Open In Colab\"/></a>"
      ]
    },
    {
      "cell_type": "code",
      "metadata": {
        "id": "ZGFDYxxEGQkt",
        "colab_type": "code",
        "outputId": "998a8804-2a30-425c-af3a-b72f4aabded9",
        "colab": {}
      },
      "source": [
        "import keras\n",
        "from keras.applications.mobilenet import MobileNet\n",
        "from keras.preprocessing import image\n",
        "from keras.applications.mobilenet import preprocess_input\n",
        "from keras.models import Model\n",
        "from keras.utils import np_utils\n",
        "import numpy as np\n",
        "import os\n",
        "from sklearn.model_selection import train_test_split\n",
        "from sklearn.linear_model import LogisticRegression, SGDClassifier,LinearRegression\n",
        "from sklearn.svm import SVC\n",
        "from sklearn.metrics import classification_report, confusion_matrix\n",
        "from sklearn.metrics import  accuracy_score\n",
        "from sklearn import neighbors\n",
        "# from sklearn.preprocessing import OneHotEncoder\n",
        "import matplotlib\n",
        "%matplotlib inline\n",
        "import matplotlib.pyplot as plt\n",
        "from keras.datasets import mnist\n",
        "from keras.models import Sequential\n",
        "from keras.layers import Dropout, Dense, Activation, Conv2D, MaxPooling2D, Flatten\n",
        "from keras.optimizers import SGD\n",
        "from keras.preprocessing.image import ImageDataGenerator\n",
        "import cv2\n",
        "from PIL import Image\n",
        "from keras import applications\n",
        "import itertools"
      ],
      "execution_count": 0,
      "outputs": [
        {
          "output_type": "stream",
          "text": [
            "Using TensorFlow backend.\n"
          ],
          "name": "stderr"
        }
      ]
    },
    {
      "cell_type": "markdown",
      "metadata": {
        "id": "iUmXBnwyGQk0",
        "colab_type": "text"
      },
      "source": [
        "# Functions"
      ]
    },
    {
      "cell_type": "code",
      "metadata": {
        "id": "TzM-mL1wGQk0",
        "colab_type": "code",
        "colab": {}
      },
      "source": [
        "def get_label(p_y):\n",
        "    idx = p_y.argmax(axis = 1)\n",
        "    pred_y = 0\n",
        "    for i in idx:\n",
        "        if i == 0:\n",
        "            pred_y = 500\n",
        "        elif i == 1:\n",
        "            pred_y = 1000\n",
        "        elif i == 2:\n",
        "            pred_y = 2000\n",
        "        else:\n",
        "            pred_y = -10\n",
        "    return pred_y"
      ],
      "execution_count": 0,
      "outputs": []
    },
    {
      "cell_type": "code",
      "metadata": {
        "id": "3nkOcywfGQk3",
        "colab_type": "code",
        "colab": {}
      },
      "source": [
        "def normalize(X):\n",
        "    X = X.astype(np.float32) / 127.5\n",
        "    X -= 1\n",
        "    return X"
      ],
      "execution_count": 0,
      "outputs": []
    },
    {
      "cell_type": "code",
      "metadata": {
        "id": "4iD5AIU2GQk6",
        "colab_type": "code",
        "colab": {}
      },
      "source": [
        "def normalize2(X):\n",
        "    X = X.astype(np.float32) / 255\n",
        "    return X"
      ],
      "execution_count": 0,
      "outputs": []
    },
    {
      "cell_type": "code",
      "metadata": {
        "id": "81RgCeIWGQk8",
        "colab_type": "code",
        "colab": {}
      },
      "source": [
        "def report(y_test, pred_y, normalize = True):\n",
        "    print('Accuuracy =' , accuracy_score(y_test, pred_y))\n",
        "    print(classification_report(y_test, pred_y))\n",
        "    print('---------------------------------------------')\n",
        "    conf_mat = confusion_matrix(y_test, pred_y)\n",
        "    plot_confusion_matrix(conf_mat, normalize = normalize, classes = ['100', '200', '500', '1000', '2000'])"
      ],
      "execution_count": 0,
      "outputs": []
    },
    {
      "cell_type": "code",
      "metadata": {
        "id": "cLGRy4olGQk-",
        "colab_type": "code",
        "colab": {}
      },
      "source": [
        "def plot_confusion_matrix(cm, classes,\n",
        "                          normalize=False,\n",
        "                          title='Confusion matrix',\n",
        "                          cmap=plt.cm.Blues):\n",
        "    \"\"\"\n",
        "    This function prints and plots the confusion matrix.\n",
        "    Normalization can be applied by setting `normalize=True`.\n",
        "    \"\"\"\n",
        "    if normalize:\n",
        "        cm = cm.astype('float') / cm.sum(axis=1)[:, np.newaxis]\n",
        "#         print(\"Normalized confusion matrix:\")\n",
        "#     else:\n",
        "#         print('Confusion matrix, without normalization:')\n",
        "\n",
        "#     print(cm)\n",
        "\n",
        "    plt.imshow(cm, interpolation='nearest', cmap=cmap)\n",
        "    plt.title(title)\n",
        "    plt.colorbar()\n",
        "    tick_marks = np.arange(len(classes))\n",
        "    plt.xticks(tick_marks, classes, rotation=45)\n",
        "    plt.yticks(tick_marks, classes)\n",
        "\n",
        "    fmt = '.2f' if normalize else 'd'\n",
        "    thresh = cm.max() / 2.\n",
        "    for i, j in itertools.product(range(cm.shape[0]), range(cm.shape[1])):\n",
        "        plt.text(j, i, format(cm[i, j], fmt),\n",
        "                 horizontalalignment=\"center\",\n",
        "                 color=\"white\" if cm[i, j] > thresh else \"black\")\n",
        "\n",
        "    plt.tight_layout()\n",
        "    plt.ylabel('True label')\n",
        "    plt.xlabel('Predicted label')"
      ],
      "execution_count": 0,
      "outputs": []
    },
    {
      "cell_type": "markdown",
      "metadata": {
        "id": "bMsy2GcUGQlA",
        "colab_type": "text"
      },
      "source": [
        "# Read Orginal Data"
      ]
    },
    {
      "cell_type": "code",
      "metadata": {
        "id": "TJdupfBlGQlB",
        "colab_type": "code",
        "colab": {}
      },
      "source": [
        "org_X = []\n",
        "org_Y = []\n",
        "imagePath = \"C:\\\\Users\\\\Baraa\\\\Desktop\\\\desktop\\\\final\\\\100\\\\\" \n",
        "allImageInDir = os.listdir(imagePath)\n",
        "for i in allImageInDir:\n",
        "    img = Image.open(imagePath + i)\n",
        "    scaled_img = img.resize(size=(224, 224))\n",
        "    org_X.append(np.asarray(scaled_img))    \n",
        "y = np.zeros([5])\n",
        "y[0] = 1\n",
        "org_Y = org_Y + [y] * len(allImageInDir)\n",
        "imagePath = \"C:\\\\Users\\\\Baraa\\\\Desktop\\\\desktop\\\\final\\\\200\\\\\" \n",
        "allImageInDir = os.listdir(imagePath)\n",
        "for i in allImageInDir:\n",
        "    img = Image.open(imagePath + i)\n",
        "    scaled_img = img.resize(size=(224, 224))\n",
        "    org_X.append(np.asarray(scaled_img))    \n",
        "y = np.zeros([5])\n",
        "y[1] = 1\n",
        "org_Y = org_Y + [y] * len(allImageInDir)\n",
        "imagePath = \"C:\\\\Users\\\\Baraa\\\\Desktop\\\\desktop\\\\final\\\\500\\\\\" \n",
        "allImageInDir = os.listdir(imagePath)\n",
        "for i in allImageInDir:\n",
        "    img = Image.open(imagePath + i)\n",
        "    scaled_img = img.resize(size=(224, 224))\n",
        "    org_X.append(np.asarray(scaled_img))    \n",
        "y = np.zeros([5])\n",
        "y[2] = 1\n",
        "org_Y = [y] * len(allImageInDir)\n",
        "imagePath = \"C:\\\\Users\\\\Baraa\\\\Desktop\\\\desktop\\\\final\\\\1000\\\\\" \n",
        "allImageInDir = os.listdir(imagePath)\n",
        "for i in allImageInDir:\n",
        "    img = Image.open(imagePath + i)\n",
        "    scaled_img = img.resize(size=(224, 224))\n",
        "    org_X.append(np.asarray(scaled_img))    \n",
        "y = np.zeros([5])\n",
        "y[3] = 1\n",
        "org_Y = org_Y + [y] * len(allImageInDir)\n",
        "imagePath = \"C:\\\\Users\\\\Baraa\\\\Desktop\\\\desktop\\\\final\\\\2000\\\\\" \n",
        "allImageInDir = os.listdir(imagePath)\n",
        "for i in allImageInDir:\n",
        "    img = Image.open(imagePath + i)\n",
        "    scaled_img = img.resize(size=(224, 224))\n",
        "    org_X.append(np.asarray(scaled_img))    \n",
        "y = np.zeros([5])\n",
        "y[4] = 1\n",
        "org_Y = org_Y + [y] * len(allImageInDir)\n",
        "org_X = np.asarray(org_X)\n",
        "# org_X = np.array(org_X)\n",
        "org_Y = np.asarray(org_Y)"
      ],
      "execution_count": 0,
      "outputs": []
    },
    {
      "cell_type": "code",
      "metadata": {
        "id": "DKzmW_0QGQlE",
        "colab_type": "code",
        "colab": {}
      },
      "source": [
        "np.save(open('npy\\\\org_X.npy', 'wb'), org_X)\n",
        "np.save(open('npy\\\\org_Y.npy', 'wb'), org_Y)"
      ],
      "execution_count": 0,
      "outputs": []
    },
    {
      "cell_type": "markdown",
      "metadata": {
        "id": "0iuqmTRyGQlH",
        "colab_type": "text"
      },
      "source": [
        "# Image Augmentation"
      ]
    },
    {
      "cell_type": "code",
      "metadata": {
        "id": "DZO73X70GQlH",
        "colab_type": "code",
        "colab": {}
      },
      "source": [
        "org_X = np.load(open('npy\\\\org_X.npy', 'rb'))\n",
        "org_Y = np.load(open('npy\\\\org_Y.npy', 'rb'))"
      ],
      "execution_count": 0,
      "outputs": []
    },
    {
      "cell_type": "code",
      "metadata": {
        "id": "rZaH7AfQGQlK",
        "colab_type": "code",
        "colab": {}
      },
      "source": [
        "datagen = ImageDataGenerator(rotation_range = 90, width_shift_range = 0.2, height_shift_range = 0.2, \n",
        "                             horizontal_flip = True, vertical_flip = True\n",
        "                            )\n",
        "# datagen = ImageDataGenerator(rotation_range = 40, width_shift_range = 0.2, height_shift_range = 0.2,\n",
        "#                              shear_range = 0.2, # shear intensity (shear angle in degrees)\n",
        "#                              horizontal_flip = True,\n",
        "#                             )"
      ],
      "execution_count": 0,
      "outputs": []
    },
    {
      "cell_type": "code",
      "metadata": {
        "id": "OwSlNwhNGQlN",
        "colab_type": "code",
        "colab": {}
      },
      "source": [
        "datagen.fit(org_X)"
      ],
      "execution_count": 0,
      "outputs": []
    },
    {
      "cell_type": "code",
      "metadata": {
        "id": "21wng9HwGQlP",
        "colab_type": "code",
        "colab": {}
      },
      "source": [
        "gen_X = []\n",
        "gen_Y = []\n",
        "for idx in range(len(org_X)):\n",
        "    i = 0\n",
        "    for img in datagen.flow(org_X[idx:idx + 1], org_Y[idx:idx + 1], batch_size = 2):\n",
        "        i = i + 1\n",
        "        gen_X.append(img[0][0])\n",
        "        gen_Y.append(img[1][0])\n",
        "        if i == 10:\n",
        "            break"
      ],
      "execution_count": 0,
      "outputs": []
    },
    {
      "cell_type": "code",
      "metadata": {
        "id": "BqwS1KlXGQlT",
        "colab_type": "code",
        "colab": {}
      },
      "source": [
        "gen_X = np.asarray(gen_X)\n",
        "gen_Y = np.asarray(gen_Y)"
      ],
      "execution_count": 0,
      "outputs": []
    },
    {
      "cell_type": "code",
      "metadata": {
        "id": "UNgKAeiWGQlW",
        "colab_type": "code",
        "colab": {}
      },
      "source": [
        "np.save(open('npy\\\\gen_X.npy', 'wb'), gen_X)\n",
        "np.save(open('npy\\\\gen_Y.npy', 'wb'), gen_Y)"
      ],
      "execution_count": 0,
      "outputs": []
    },
    {
      "cell_type": "markdown",
      "metadata": {
        "id": "dFepGI_eGQlZ",
        "colab_type": "text"
      },
      "source": [
        "# Transfer Learning: MobileNet Model as Fixed Feature Extractor"
      ]
    },
    {
      "cell_type": "code",
      "metadata": {
        "id": "_WuNZB4jGQla",
        "colab_type": "code",
        "colab": {}
      },
      "source": [
        "base_model = MobileNet(weights = 'imagenet')\n",
        "base_model.summary()"
      ],
      "execution_count": 0,
      "outputs": []
    },
    {
      "cell_type": "code",
      "metadata": {
        "id": "FRk_-WSPGQlc",
        "colab_type": "code",
        "colab": {}
      },
      "source": [
        "tra_model = Model(inputs = base_model.input, outputs = base_model.get_layer('conv_preds').output)\n",
        "tra_model.summary()"
      ],
      "execution_count": 0,
      "outputs": []
    },
    {
      "cell_type": "markdown",
      "metadata": {
        "id": "1G4f4aOEGQle",
        "colab_type": "text"
      },
      "source": [
        "## Extract Features from Orginal Data Using Transfered Model"
      ]
    },
    {
      "cell_type": "code",
      "metadata": {
        "id": "i8lElb1vGQlf",
        "colab_type": "code",
        "collapsed": true,
        "colab": {}
      },
      "source": [
        "org_X = np.load(open('npy\\\\org_X.npy', 'rb'))\n",
        "org_Y = np.load(open('npy\\\\org_Y.npy', 'rb'))"
      ],
      "execution_count": 0,
      "outputs": []
    },
    {
      "cell_type": "code",
      "metadata": {
        "id": "a1WGwBQtGQlg",
        "colab_type": "code",
        "collapsed": true,
        "colab": {}
      },
      "source": [
        "# org_X_pred = tra_model.predict(org_X)\n",
        "# org_X_pred = org_X_pred.reshape(org_X_pred.shape[0], org_X_pred.shape[3])\n",
        "# np.save(open('npy\\\\org_X.npy', 'wb'), org_X)\n",
        "# np.save(open('npy\\\\org_X_pred.npy', 'wb'), org_X_pred)\n",
        "# np.save(open('npy\\\\org_Y.npy', 'wb'), org_Y)"
      ],
      "execution_count": 0,
      "outputs": []
    },
    {
      "cell_type": "code",
      "metadata": {
        "id": "mJqVs-ChGQlk",
        "colab_type": "code",
        "collapsed": true,
        "colab": {}
      },
      "source": [
        "# normalized_org_X = normalize(org_X)\n",
        "# normalized_org_X_pred = tra_model.predict(normalized_org_X)\n",
        "# normalized_org_X_pred = normalized_org_X_pred.reshape(normalized_org_X_pred.shape[0], normalized_org_X_pred.shape[3])\n",
        "# np.save(open('npy\\\\normalized_org_X.npy', 'wb'), normalized_org_X)\n",
        "# np.save(open('npy\\\\normalized_org_X_pred.npy', 'wb'), normalized_org_X_pred)\n",
        "# np.save(open('npy\\\\org_Y.npy', 'wb'), org_Y)"
      ],
      "execution_count": 0,
      "outputs": []
    },
    {
      "cell_type": "code",
      "metadata": {
        "id": "qBPcRZCJGQlm",
        "colab_type": "code",
        "collapsed": true,
        "colab": {}
      },
      "source": [
        "# normalized2_org_X = normalize2(org_X)\n",
        "# normalized2_org_X_pred = tra_model.predict(normalized2_org_X)\n",
        "# normalized2_org_X_pred = normalized2_org_X_pred.reshape(normalized2_org_X_pred.shape[0], normalized2_org_X_pred.shape[3])\n",
        "# np.save(open('npy\\\\normalized2_org_X.npy', 'wb'), normalized2_org_X)\n",
        "# np.save(open('npy\\\\normalized2_org_X_pred.npy', 'wb'), normalized2_org_X_pred)\n",
        "# np.save(open('npy\\\\org_Y.npy', 'wb'), org_Y)"
      ],
      "execution_count": 0,
      "outputs": []
    },
    {
      "cell_type": "markdown",
      "metadata": {
        "id": "kmV1pQPhGQlo",
        "colab_type": "text"
      },
      "source": [
        "## Extract Features from Generated Data Using Transfered Model"
      ]
    },
    {
      "cell_type": "code",
      "metadata": {
        "id": "W1FvpdY9GQlo",
        "colab_type": "code",
        "collapsed": true,
        "colab": {}
      },
      "source": [
        "gen_X = np.load(open('npy\\\\gen_X.npy', 'rb'))\n",
        "gen_Y = np.load(open('npy\\\\gen_Y.npy', 'rb'))"
      ],
      "execution_count": 0,
      "outputs": []
    },
    {
      "cell_type": "code",
      "metadata": {
        "id": "fS-6vEHwGQlr",
        "colab_type": "code",
        "collapsed": true,
        "colab": {}
      },
      "source": [
        "# gen_X_pred = tra_model.predict(gen_X)\n",
        "# gen_X_pred = gen_X_pred.reshape(gen_X_pred.shape[0], gen_X_pred.shape[3])\n",
        "# np.save(open('npy\\\\gen_X_pred.npy', 'wb'), gen_X_pred)"
      ],
      "execution_count": 0,
      "outputs": []
    },
    {
      "cell_type": "code",
      "metadata": {
        "id": "JN7nelheGQls",
        "colab_type": "code",
        "collapsed": true,
        "colab": {}
      },
      "source": [
        "# normalized_gen_X = normalize(gen_X)\n",
        "# normalized_gen_X_pred = tra_model.predict(normalized_gen_X)\n",
        "# normalized_gen_X_pred = normalized_gen_X_pred.reshape(normalized_gen_X_pred.shape[0], normalized_gen_X_pred.shape[3])\n",
        "# np.save(open('npy\\\\normalized_gen_X.npy', 'wb'), normalized_gen_X)\n",
        "# np.save(open('npy\\\\normalized_gen_X_pred.npy', 'wb'), normalized_gen_X_pred)"
      ],
      "execution_count": 0,
      "outputs": []
    },
    {
      "cell_type": "code",
      "metadata": {
        "id": "GLERdiSGGQlu",
        "colab_type": "code",
        "collapsed": true,
        "colab": {}
      },
      "source": [
        "# normalized2_gen_X = normalize2(gen_X)\n",
        "# normalized2_gen_X_pred = tra_model.predict(normalized2_gen_X)\n",
        "# normalized2_gen_X_pred = normalized2_gen_X_pred.reshape(normalized2_gen_X_pred.shape[0], normalized2_gen_X_pred.shape[3])\n",
        "# np.save(open('npy\\\\normalized2_gen_X.npy', 'wb'), normalized2_gen_X)\n",
        "# np.save(open('npy\\\\normalized2_gen_X_pred.npy', 'wb'), normalized2_gen_X_pred)"
      ],
      "execution_count": 0,
      "outputs": []
    },
    {
      "cell_type": "markdown",
      "metadata": {
        "id": "ZxSjFR-MGQlx",
        "colab_type": "text"
      },
      "source": [
        "## Combine Features of Orginal Data with Features of Generated Data"
      ]
    },
    {
      "cell_type": "code",
      "metadata": {
        "id": "WUGN1otAGQlx",
        "colab_type": "code",
        "collapsed": true,
        "colab": {}
      },
      "source": [
        "org_X = np.load(open('npy\\\\org_X.npy', 'rb'))\n",
        "gen_X = np.load(open('npy\\\\gen_X.npy', 'rb'))\n",
        "X = np.vstack([org_X, gen_X])\n",
        "np.save(open('npy\\\\X.npy', 'wb'), X)"
      ],
      "execution_count": 0,
      "outputs": []
    },
    {
      "cell_type": "code",
      "metadata": {
        "id": "AZekcjXQGQlz",
        "colab_type": "code",
        "collapsed": true,
        "colab": {}
      },
      "source": [
        "org_Y = np.load(open('npy\\\\org_Y.npy', 'rb'))\n",
        "gen_Y = np.load(open('npy\\\\gen_Y.npy', 'rb'))\n",
        "Y = np.vstack([org_Y, gen_Y])\n",
        "np.save(open('npy\\\\Y.npy', 'wb'), Y)"
      ],
      "execution_count": 0,
      "outputs": []
    },
    {
      "cell_type": "code",
      "metadata": {
        "id": "CHFRn3YQGQl2",
        "colab_type": "code",
        "collapsed": true,
        "colab": {}
      },
      "source": [
        "normalized_org_X = np.load(open('npy\\\\normalized_org_X.npy', 'rb'))\n",
        "normalized_gen_X = np.load(open('npy\\\\normalized_gen_X.npy', 'rb'))\n",
        "normalized_X = np.vstack([normalized_org_X, normalized_gen_X])\n",
        "np.save(open('npy\\\\normalized_X.npy', 'wb'), normalized_X)"
      ],
      "execution_count": 0,
      "outputs": []
    },
    {
      "cell_type": "code",
      "metadata": {
        "id": "CASUbeu-GQl6",
        "colab_type": "code",
        "collapsed": true,
        "colab": {}
      },
      "source": [
        "normalized2_org_X = np.load(open('npy\\\\normalized2_org_X.npy', 'rb'))\n",
        "normalized2_gen_X = np.load(open('npy\\\\normalized2_gen_X.npy', 'rb'))\n",
        "normalized2_X = np.vstack([normalized2_org_X, normalized2_gen_X])\n",
        "np.save(open('npy\\\\normalized2_X.npy', 'wb'), normalized2_X)"
      ],
      "execution_count": 0,
      "outputs": []
    },
    {
      "cell_type": "code",
      "metadata": {
        "id": "c-0A50y4GQl-",
        "colab_type": "code",
        "collapsed": true,
        "colab": {}
      },
      "source": [
        "org_X_pred = np.load(open('npy\\\\org_X_pred.npy', 'rb'))\n",
        "gen_X_pred = np.load(open('npy\\\\gen_X_pred.npy', 'rb'))\n",
        "X_pred = np.vstack([org_X_pred, gen_X_pred])\n",
        "np.save(open('npy\\\\X_pred.npy', 'wb'), X_pred)"
      ],
      "execution_count": 0,
      "outputs": []
    },
    {
      "cell_type": "code",
      "metadata": {
        "id": "8VgSBC5OGQmC",
        "colab_type": "code",
        "collapsed": true,
        "colab": {}
      },
      "source": [
        "normalized_org_X_pred = np.load(open('npy\\\\normalized_org_X_pred.npy', 'rb'))\n",
        "normalized_gen_X_pred = np.load(open('npy\\\\normalized_gen_X_pred.npy', 'rb'))\n",
        "normalized_X_pred = np.vstack([normalized_org_X_pred, normalized_gen_X_pred])\n",
        "np.save(open('npy\\\\normalized_X_pred.npy', 'wb'), normalized_X_pred)"
      ],
      "execution_count": 0,
      "outputs": []
    },
    {
      "cell_type": "code",
      "metadata": {
        "id": "c1BCt1z4GQmH",
        "colab_type": "code",
        "collapsed": true,
        "colab": {}
      },
      "source": [
        "normalized2_org_X_pred = np.load(open('npy\\\\normalized2_org_X_pred.npy', 'rb'))\n",
        "normalized2_gen_X_pred = np.load(open('npy\\\\normalized2_gen_X_pred.npy', 'rb'))\n",
        "normalized2_X_pred = np.vstack([normalized2_org_X_pred, normalized2_gen_X_pred])\n",
        "np.save(open('npy\\\\normalized2_X_pred.npy', 'wb'), normalized2_X_pred)"
      ],
      "execution_count": 0,
      "outputs": []
    },
    {
      "cell_type": "code",
      "metadata": {
        "id": "hF0vJ3adGQmI",
        "colab_type": "code",
        "collapsed": true,
        "colab": {}
      },
      "source": [
        ""
      ],
      "execution_count": 0,
      "outputs": []
    },
    {
      "cell_type": "markdown",
      "metadata": {
        "id": "s6Jp2KMVGQmJ",
        "colab_type": "text"
      },
      "source": [
        "# Load Data"
      ]
    },
    {
      "cell_type": "markdown",
      "metadata": {
        "id": "dpTIpb_PGQmK",
        "colab_type": "text"
      },
      "source": [
        "## Load Orginal Data"
      ]
    },
    {
      "cell_type": "code",
      "metadata": {
        "id": "hmzDQ1pzGQmL",
        "colab_type": "code",
        "collapsed": true,
        "colab": {}
      },
      "source": [
        "X_pred = np.load(open('npy\\\\org_X_pred.npy', 'rb'))\n",
        "X_pred = np.load(open('npy\\\\normalized_org_X_pred.npy', 'rb'))\n",
        "X_pred = np.load(open('npy\\\\normalized2_org_X_pred.npy', 'rb'))\n",
        "Y = np.load(open('npy\\\\org_Y.npy', 'rb'))\n",
        "# X = np.load(open('npy\\\\org_X.npy', 'rb'))\n",
        "# X = np.load(open('npy\\\\normalized_org_X.npy', 'rb'))\n",
        "# X = np.load(open('npy\\\\normalized2_org_X.npy', 'rb'))"
      ],
      "execution_count": 0,
      "outputs": []
    },
    {
      "cell_type": "markdown",
      "metadata": {
        "id": "xkFsQjsoGQmM",
        "colab_type": "text"
      },
      "source": [
        "## Load Generated Data"
      ]
    },
    {
      "cell_type": "code",
      "metadata": {
        "id": "G-u5ulw4GQmN",
        "colab_type": "code",
        "collapsed": true,
        "colab": {}
      },
      "source": [
        "X_pred = np.load(open('npy\\\\gen_X_pred.npy', 'rb'))\n",
        "X_pred = np.load(open('npy\\\\normalized_gen_X_pred.npy', 'rb'))\n",
        "X_pred = np.load(open('npy\\\\normalized2_gen_X_pred.npy', 'rb'))\n",
        "Y = np.load(open('npy\\\\gen_Y.npy', 'rb'))\n",
        "# X = np.load(open('npy\\\\gen_X.npy', 'rb'))\n",
        "# X = np.load(open('npy\\\\normalized_gen_X.npy', 'rb'))\n",
        "# X = np.load(open('npy\\\\normalized2_gen_X.npy', 'rb'))"
      ],
      "execution_count": 0,
      "outputs": []
    },
    {
      "cell_type": "markdown",
      "metadata": {
        "id": "aJt6pZeaGQmP",
        "colab_type": "text"
      },
      "source": [
        "## Load Combined Data"
      ]
    },
    {
      "cell_type": "code",
      "metadata": {
        "id": "5Do6wvkbGQmP",
        "colab_type": "code",
        "collapsed": true,
        "colab": {}
      },
      "source": [
        "X_pred = np.load(open('npy\\\\X_pred.npy', 'rb'))\n",
        "X_pred = np.load(open('npy\\\\normalized_X_pred.npy', 'rb'))\n",
        "X_pred = np.load(open('npy\\\\normalized2_X_pred.npy', 'rb'))\n",
        "Y = np.load(open('npy\\\\Y.npy', 'rb'))\n",
        "# X = np.load(open('npy\\\\X.npy', 'rb'))\n",
        "# X = np.load(open('npy\\\\normalized_X.npy', 'rb'))\n",
        "# X = np.load(open('npy\\\\normalized2_X.npy', 'rb'))"
      ],
      "execution_count": 0,
      "outputs": []
    },
    {
      "cell_type": "code",
      "metadata": {
        "id": "SsvN4Z55GQmR",
        "colab_type": "code",
        "collapsed": true,
        "colab": {}
      },
      "source": [
        ""
      ],
      "execution_count": 0,
      "outputs": []
    },
    {
      "cell_type": "markdown",
      "metadata": {
        "id": "aecie1cSGQmS",
        "colab_type": "text"
      },
      "source": [
        "## Split Data"
      ]
    },
    {
      "cell_type": "code",
      "metadata": {
        "id": "PM2NDy7sGQmT",
        "colab_type": "code",
        "collapsed": true,
        "colab": {}
      },
      "source": [
        "X_train, X_test, Y_train, Y_test = train_test_split(X_pred, Y, random_state = 42)"
      ],
      "execution_count": 0,
      "outputs": []
    },
    {
      "cell_type": "code",
      "metadata": {
        "id": "HgnkhaqxGQmZ",
        "colab_type": "code",
        "collapsed": true,
        "colab": {}
      },
      "source": [
        "y_train = Y_train.argmax(axis = 1)\n",
        "y_test = Y_test.argmax(axis = 1)"
      ],
      "execution_count": 0,
      "outputs": []
    },
    {
      "cell_type": "code",
      "metadata": {
        "id": "2k27yL-FGQmb",
        "colab_type": "code",
        "collapsed": true,
        "colab": {}
      },
      "source": [
        "# np_utils.to_categorical(y_test, 4)"
      ],
      "execution_count": 0,
      "outputs": []
    },
    {
      "cell_type": "markdown",
      "metadata": {
        "id": "j6qqECA0GQme",
        "colab_type": "text"
      },
      "source": [
        "# Linear Regression"
      ]
    },
    {
      "cell_type": "code",
      "metadata": {
        "id": "FBOuCI5mGQmf",
        "colab_type": "code",
        "outputId": "08fadac6-ba73-45a7-fba1-7e56e11328ac",
        "colab": {}
      },
      "source": [
        "lin_model = LinearRegression()\n",
        "lin_model.fit(X_train, Y_train)"
      ],
      "execution_count": 0,
      "outputs": [
        {
          "output_type": "execute_result",
          "data": {
            "text/plain": [
              "LinearRegression(copy_X=True, fit_intercept=True, n_jobs=1, normalize=False)"
            ]
          },
          "metadata": {
            "tags": []
          },
          "execution_count": 10
        }
      ]
    },
    {
      "cell_type": "code",
      "metadata": {
        "id": "XKg2cLR3GQmj",
        "colab_type": "code",
        "colab": {}
      },
      "source": [
        "p_Y = lin_model.predict(X_test)\n",
        "pred_y = p_Y.argmax(axis = 1)"
      ],
      "execution_count": 0,
      "outputs": []
    },
    {
      "cell_type": "markdown",
      "metadata": {
        "id": "Ps5AlrLcGQmk",
        "colab_type": "text"
      },
      "source": [
        "## Report"
      ]
    },
    {
      "cell_type": "code",
      "metadata": {
        "id": "LRIjCCihGQml",
        "colab_type": "code",
        "outputId": "f90260cc-80dc-4cc1-d27a-6907f62fa605",
        "colab": {}
      },
      "source": [
        "report(y_test, pred_y, True)"
      ],
      "execution_count": 0,
      "outputs": [
        {
          "output_type": "stream",
          "text": [
            "Accuuracy = 0.988439306358\n",
            "             precision    recall  f1-score   support\n",
            "\n",
            "          0       0.99      0.98      0.98       121\n",
            "          1       0.98      1.00      0.99        93\n",
            "          2       0.99      0.99      0.99       132\n",
            "\n",
            "avg / total       0.99      0.99      0.99       346\n",
            "\n",
            "---------------------------------------------\n"
          ],
          "name": "stdout"
        },
        {
          "output_type": "display_data",
          "data": {
            "image/png": "[encoded data removed]",
            "text/plain": [
              "<matplotlib.figure.Figure at 0x15ad7916f28>"
            ]
          },
          "metadata": {
            "tags": []
          }
        }
      ]
    },
    {
      "cell_type": "code",
      "metadata": {
        "id": "rkzdQe11GQmn",
        "colab_type": "code",
        "collapsed": true,
        "colab": {}
      },
      "source": [
        ""
      ],
      "execution_count": 0,
      "outputs": []
    },
    {
      "cell_type": "markdown",
      "metadata": {
        "id": "C8a7wq2JGQmq",
        "colab_type": "text"
      },
      "source": [
        "# Logistic Regression (One Vs All)"
      ]
    },
    {
      "cell_type": "code",
      "metadata": {
        "id": "hIIHL2xfGQmr",
        "colab_type": "code",
        "colab": {}
      },
      "source": [
        "y_500 = y_train.copy()\n",
        "y_500[y_500 == 0] = 4\n",
        "y_500[y_500 != 4] = 0\n",
        "y_500[y_500 == 4] = 1"
      ],
      "execution_count": 0,
      "outputs": []
    },
    {
      "cell_type": "code",
      "metadata": {
        "id": "naVtMeV0GQmw",
        "colab_type": "code",
        "outputId": "d0c1e283-fead-4355-8713-2473358e595d",
        "colab": {}
      },
      "source": [
        "log_model_500 = LogisticRegression()\n",
        "log_model_500.fit(X_train, y_500)"
      ],
      "execution_count": 0,
      "outputs": [
        {
          "output_type": "execute_result",
          "data": {
            "text/plain": [
              "LogisticRegression(C=1.0, class_weight=None, dual=False, fit_intercept=True,\n",
              "          intercept_scaling=1, max_iter=100, multi_class='ovr', n_jobs=1,\n",
              "          penalty='l2', random_state=None, solver='liblinear', tol=0.0001,\n",
              "          verbose=0, warm_start=False)"
            ]
          },
          "metadata": {
            "tags": []
          },
          "execution_count": 14
        }
      ]
    },
    {
      "cell_type": "code",
      "metadata": {
        "id": "6bCJ2h-UGQm0",
        "colab_type": "code",
        "colab": {}
      },
      "source": [
        "y_1000 = y_train.copy()\n",
        "y_1000[y_1000 != 1] = 0"
      ],
      "execution_count": 0,
      "outputs": []
    },
    {
      "cell_type": "code",
      "metadata": {
        "id": "fv5aVhxgGQm3",
        "colab_type": "code",
        "outputId": "1bb1a4d9-f9e8-4d4b-e4fe-2e58b9390f6a",
        "colab": {}
      },
      "source": [
        "log_model_1000 = LogisticRegression()\n",
        "log_model_1000.fit(X_train, y_1000)"
      ],
      "execution_count": 0,
      "outputs": [
        {
          "output_type": "execute_result",
          "data": {
            "text/plain": [
              "LogisticRegression(C=1.0, class_weight=None, dual=False, fit_intercept=True,\n",
              "          intercept_scaling=1, max_iter=100, multi_class='ovr', n_jobs=1,\n",
              "          penalty='l2', random_state=None, solver='liblinear', tol=0.0001,\n",
              "          verbose=0, warm_start=False)"
            ]
          },
          "metadata": {
            "tags": []
          },
          "execution_count": 16
        }
      ]
    },
    {
      "cell_type": "code",
      "metadata": {
        "id": "aZkWGPVqGQm6",
        "colab_type": "code",
        "colab": {}
      },
      "source": [
        "y_2000 = y_train.copy()\n",
        "y_2000[y_2000 != 2] = 0\n",
        "y_2000[y_2000 == 2] = 1"
      ],
      "execution_count": 0,
      "outputs": []
    },
    {
      "cell_type": "code",
      "metadata": {
        "id": "ogWCU9xpGQm-",
        "colab_type": "code",
        "outputId": "a05fc2ca-5a27-4e41-a96a-2848de7388f2",
        "colab": {}
      },
      "source": [
        "log_model_2000 = LogisticRegression()\n",
        "log_model_2000.fit(X_train, y_2000)"
      ],
      "execution_count": 0,
      "outputs": [
        {
          "output_type": "execute_result",
          "data": {
            "text/plain": [
              "LogisticRegression(C=1.0, class_weight=None, dual=False, fit_intercept=True,\n",
              "          intercept_scaling=1, max_iter=100, multi_class='ovr', n_jobs=1,\n",
              "          penalty='l2', random_state=None, solver='liblinear', tol=0.0001,\n",
              "          verbose=0, warm_start=False)"
            ]
          },
          "metadata": {
            "tags": []
          },
          "execution_count": 18
        }
      ]
    },
    {
      "cell_type": "code",
      "metadata": {
        "id": "OP0OBL5rGQnB",
        "colab_type": "code",
        "colab": {}
      },
      "source": [
        "p_Y_500 = log_model_500.predict_proba(X_test)\n",
        "p_Y_1000 = log_model_1000.predict_proba(X_test)\n",
        "p_Y_2000 = log_model_2000.predict_proba(X_test)\n",
        "p_Y = np.array([p_Y_500[:,1], p_Y_1000[:,1], p_Y_2000[:,1]])\n",
        "p_Y = p_Y.T"
      ],
      "execution_count": 0,
      "outputs": []
    },
    {
      "cell_type": "code",
      "metadata": {
        "id": "UjAGfm_YGQnC",
        "colab_type": "code",
        "colab": {}
      },
      "source": [
        "pred_y = p_Y.argmax(axis = 1)"
      ],
      "execution_count": 0,
      "outputs": []
    },
    {
      "cell_type": "markdown",
      "metadata": {
        "id": "FsJ8bqpyGQnG",
        "colab_type": "text"
      },
      "source": [
        "## Report"
      ]
    },
    {
      "cell_type": "code",
      "metadata": {
        "id": "dYLJO0ABGQnG",
        "colab_type": "code",
        "outputId": "7e440465-f2d2-46f7-e45b-60b71126168b",
        "colab": {}
      },
      "source": [
        "report(y_test, pred_y)"
      ],
      "execution_count": 0,
      "outputs": [
        {
          "output_type": "stream",
          "text": [
            "Accuuracy = 0.991329479769\n",
            "             precision    recall  f1-score   support\n",
            "\n",
            "          0       1.00      0.98      0.99       121\n",
            "          1       0.99      0.99      0.99        93\n",
            "          2       0.99      1.00      0.99       132\n",
            "\n",
            "avg / total       0.99      0.99      0.99       346\n",
            "\n",
            "---------------------------------------------\n"
          ],
          "name": "stdout"
        },
        {
          "output_type": "display_data",
          "data": {
            "image/png": "[encoded data removed]",
            "text/plain": [
              "<matplotlib.figure.Figure at 0x15ad7acd5f8>"
            ]
          },
          "metadata": {
            "tags": []
          }
        }
      ]
    },
    {
      "cell_type": "code",
      "metadata": {
        "id": "8xWrVO6PGQnK",
        "colab_type": "code",
        "collapsed": true,
        "colab": {}
      },
      "source": [
        ""
      ],
      "execution_count": 0,
      "outputs": []
    },
    {
      "cell_type": "markdown",
      "metadata": {
        "id": "n3blnqawGQnP",
        "colab_type": "text"
      },
      "source": [
        "# KNN"
      ]
    },
    {
      "cell_type": "code",
      "metadata": {
        "id": "an-Bo-PhGQnQ",
        "colab_type": "code",
        "colab": {}
      },
      "source": [
        "knn_model = neighbors.KNeighborsClassifier(3, weights = 'uniform') # 'uniform', 'distance'\n",
        "knn_model.fit(X_train, y_train)\n",
        "pred_y = knn_model.predict(X_test)"
      ],
      "execution_count": 0,
      "outputs": []
    },
    {
      "cell_type": "markdown",
      "metadata": {
        "id": "OWZzBWsOGQnT",
        "colab_type": "text"
      },
      "source": [
        "## Report"
      ]
    },
    {
      "cell_type": "code",
      "metadata": {
        "id": "f7U0qZvcGQnU",
        "colab_type": "code",
        "outputId": "4eb68eef-290a-4c3b-f853-2c624df7a90e",
        "colab": {}
      },
      "source": [
        "report(y_test, pred_y, False)"
      ],
      "execution_count": 0,
      "outputs": [
        {
          "output_type": "stream",
          "text": [
            "Accuuracy = 0.991329479769\n",
            "             precision    recall  f1-score   support\n",
            "\n",
            "          0       1.00      0.98      0.99       121\n",
            "          1       0.99      0.99      0.99        93\n",
            "          2       0.99      1.00      0.99       132\n",
            "\n",
            "avg / total       0.99      0.99      0.99       346\n",
            "\n",
            "---------------------------------------------\n"
          ],
          "name": "stdout"
        },
        {
          "output_type": "display_data",
          "data": {
            "image/png": "[encoded data removed]",
            "text/plain": [
              "<matplotlib.figure.Figure at 0x15ad7adc0b8>"
            ]
          },
          "metadata": {
            "tags": []
          }
        }
      ]
    },
    {
      "cell_type": "code",
      "metadata": {
        "id": "lwB297o9GQnW",
        "colab_type": "code",
        "colab": {}
      },
      "source": [
        ""
      ],
      "execution_count": 0,
      "outputs": []
    },
    {
      "cell_type": "code",
      "metadata": {
        "id": "SZNVW0ewGQnc",
        "colab_type": "code",
        "colab": {}
      },
      "source": [
        ""
      ],
      "execution_count": 0,
      "outputs": []
    },
    {
      "cell_type": "code",
      "metadata": {
        "id": "fYoaUZp3GQne",
        "colab_type": "code",
        "colab": {}
      },
      "source": [
        ""
      ],
      "execution_count": 0,
      "outputs": []
    },
    {
      "cell_type": "code",
      "metadata": {
        "id": "oIm-VrrIGQnf",
        "colab_type": "code",
        "colab": {}
      },
      "source": [
        ""
      ],
      "execution_count": 0,
      "outputs": []
    },
    {
      "cell_type": "code",
      "metadata": {
        "id": "RRzNJahXGQnh",
        "colab_type": "code",
        "colab": {}
      },
      "source": [
        "cam = cv2.VideoCapture(0)\n",
        "\n",
        "cv2.namedWindow(\"test\")\n",
        "\n",
        "img_counter = 0\n",
        "\n",
        "while True:\n",
        "    ret, frame = cam.read()\n",
        "    cv2.imshow(\"test\", frame)\n",
        "\n",
        "    if not ret:\n",
        "        break\n",
        "    k = cv2.waitKey(1)\n",
        "\n",
        "\n",
        "    if k%256 == 27:\n",
        "        # ESC pressed\n",
        "        print(\"Escape hit, closing...\")\n",
        "        break\n",
        "    elif k%256 == 32:\n",
        "        # SPACE pressed\n",
        "        img_name = \"Folder\\\\opencv_frame_{}.png\".format(img_counter)\n",
        "        cv2.imwrite(img_name, frame)\n",
        "        print(\"{} written!\".format(img_name))\n",
        "        img = image.load_img(img_name, target_size=(224, 224))\n",
        "        x = image.img_to_array(img)\n",
        "        x = np.expand_dims(x, axis=0)\n",
        "        x = preprocess_input(x)\n",
        "        f = model1.predict(x)\n",
        "        f = f.reshape(f.shape[3])\n",
        "        pre= model.predict(np.array([f]))\n",
        "        print(get_label(pre))\n",
        "        img_counter += 1\n",
        "\n",
        "cam.release()\n",
        "\n",
        "cv2.destroyAllWindows()"
      ],
      "execution_count": 0,
      "outputs": []
    },
    {
      "cell_type": "code",
      "metadata": {
        "id": "TeVi0QsXGQnk",
        "colab_type": "code",
        "colab": {}
      },
      "source": [
        ""
      ],
      "execution_count": 0,
      "outputs": []
    },
    {
      "cell_type": "code",
      "metadata": {
        "id": "xVSrrX1_GQnm",
        "colab_type": "code",
        "colab": {}
      },
      "source": [
        ""
      ],
      "execution_count": 0,
      "outputs": []
    },
    {
      "cell_type": "code",
      "metadata": {
        "id": "BHB0zFTnGQnn",
        "colab_type": "code",
        "colab": {}
      },
      "source": [
        ""
      ],
      "execution_count": 0,
      "outputs": []
    },
    {
      "cell_type": "code",
      "metadata": {
        "id": "xrk8-ADTGQnp",
        "colab_type": "code",
        "colab": {}
      },
      "source": [
        ""
      ],
      "execution_count": 0,
      "outputs": []
    },
    {
      "cell_type": "code",
      "metadata": {
        "id": "wiChxs3aGQnq",
        "colab_type": "code",
        "colab": {}
      },
      "source": [
        ""
      ],
      "execution_count": 0,
      "outputs": []
    },
    {
      "cell_type": "code",
      "metadata": {
        "id": "6MZB_KLaGQns",
        "colab_type": "code",
        "colab": {}
      },
      "source": [
        "\n",
        "for batch in datagen.flow(X[0:3], Y[0:3], batch_size = 3, save_to_dir = 'augmentation3',save_prefix = 'sample_img', save_format='jpeg'):\n",
        "    i +=1\n",
        "\n",
        "# datagen.flow(x, batch_size = 1, save_to_dir = 'augmentation',save_prefix = 'sample_img', save_format='jpeg')"
      ],
      "execution_count": 0,
      "outputs": []
    },
    {
      "cell_type": "code",
      "metadata": {
        "id": "0Uz62cKyGQnt",
        "colab_type": "code",
        "colab": {}
      },
      "source": [
        "# for k in range(len(X)):\n",
        "#     x = X[k]\n",
        "#     x = x.reshape((1,) + x.shape) # (1, 224, 224, 3)\n",
        "#     i = 0 \n",
        "#     for batch in datagen.flow(x, batch_size = 1, save_to_dir = 'augmentation',save_prefix = 'sample_img', save_format='jpeg'):\n",
        "#         i +=1\n",
        "#         if i > 9:\n",
        "#             break"
      ],
      "execution_count": 0,
      "outputs": []
    },
    {
      "cell_type": "code",
      "metadata": {
        "id": "bwYUgFBqGQnv",
        "colab_type": "code",
        "colab": {}
      },
      "source": [
        ""
      ],
      "execution_count": 0,
      "outputs": []
    },
    {
      "cell_type": "code",
      "metadata": {
        "id": "BMcKHtBmGQnx",
        "colab_type": "code",
        "colab": {}
      },
      "source": [
        "n_out = 3\n",
        "\n",
        "model = Sequential()\n",
        "model.add(Conv2D(16, (3,3), input_shape=(224, 224, 3), activation='relu'))\n",
        "model.add(MaxPooling2D(pool_size=(3,3)))\n",
        "\n",
        "model.add(Conv2D(16, (3, 3), activation='relu'))\n",
        "model.add(MaxPooling2D(pool_size=(2, 2)))\n",
        "\n",
        "model.add(Conv2D(32, (3, 3), activation='relu'))\n",
        "model.add(MaxPooling2D(pool_size=(2, 2)))\n",
        "\n",
        "# output is a 3D feature map (height, width, features)\n",
        "\n",
        "# add two fully connected output layers\n",
        "\n",
        "model.add(Flatten()) # 1D feature vector\n",
        "model.add(Dense(units=32, kernel_initializer='uniform', activation='relu'))\n",
        "model.add(Dense(units=n_out, kernel_initializer='uniform', activation='sigmoid'))\n",
        "\n",
        "model.compile(loss='categorical_crossentropy', optimizer='adam')"
      ],
      "execution_count": 0,
      "outputs": []
    },
    {
      "cell_type": "code",
      "metadata": {
        "id": "E05AreKDGQn1",
        "colab_type": "code",
        "colab": {}
      },
      "source": [
        "model = Sequential()\n",
        "model.add(Conv2D(32, kernel_size=(3, 3),padding='same',input_shape=(224, 224,3)))\n",
        "model.add(Activation('relu'))\n",
        "model.add(Conv2D(32, (3, 3)))\n",
        "model.add(Activation('relu'))\n",
        "model.add(MaxPooling2D(pool_size=(2, 2)))\n",
        "model.add(Dropout(0.25))\n",
        "\n",
        "model.add(Conv2D(64,(3, 3), padding='same'))\n",
        "model.add(Activation('relu'))\n",
        "model.add(Conv2D(64, (3, 3)))\n",
        "model.add(Activation('relu'))\n",
        "model.add(MaxPooling2D(pool_size=(2, 2)))\n",
        "model.add(Dropout(0.25))\n",
        "\n",
        "model.add(Flatten())\n",
        "model.add(Dense(512))\n",
        "model.add(Activation('relu'))\n",
        "model.add(Dropout(0.5))\n",
        "model.add(Dense(3))\n",
        "model.add(Activation('sigmoid'))\n",
        "sgd = SGD(lr=0.01, decay=1e-6, momentum=0.9, nesterov=True)\n",
        "model.compile(loss='binary_crossentropy', optimizer=sgd, metrics=['accuracy'])"
      ],
      "execution_count": 0,
      "outputs": []
    },
    {
      "cell_type": "code",
      "metadata": {
        "id": "Pmv-C6lbGQn2",
        "colab_type": "code",
        "colab": {}
      },
      "source": [
        "model.summary()"
      ],
      "execution_count": 0,
      "outputs": []
    },
    {
      "cell_type": "code",
      "metadata": {
        "id": "UyiRdMFYGQn3",
        "colab_type": "code",
        "colab": {}
      },
      "source": [
        ""
      ],
      "execution_count": 0,
      "outputs": []
    },
    {
      "cell_type": "code",
      "metadata": {
        "id": "ofLwhTKAGQn3",
        "colab_type": "code",
        "colab": {}
      },
      "source": [
        "model1.fit(X_train, Y_train, epochs = 5)"
      ],
      "execution_count": 0,
      "outputs": []
    },
    {
      "cell_type": "code",
      "metadata": {
        "id": "B2vYjolCGQn4",
        "colab_type": "code",
        "colab": {}
      },
      "source": [
        "Y_pred = model1.predict(X_test)"
      ],
      "execution_count": 0,
      "outputs": []
    },
    {
      "cell_type": "code",
      "metadata": {
        "id": "BpbdnPHhGQn7",
        "colab_type": "code",
        "colab": {}
      },
      "source": [
        "acc = accuracy_score(Y_test, Y_pred)\n",
        "print(acc)"
      ],
      "execution_count": 0,
      "outputs": []
    },
    {
      "cell_type": "code",
      "metadata": {
        "id": "DoeepESGGQn8",
        "colab_type": "code",
        "colab": {}
      },
      "source": [
        "Y_pred[2]"
      ],
      "execution_count": 0,
      "outputs": []
    },
    {
      "cell_type": "code",
      "metadata": {
        "id": "FZXdDbf3GQn9",
        "colab_type": "code",
        "colab": {}
      },
      "source": [
        "base_model.summary()"
      ],
      "execution_count": 0,
      "outputs": []
    },
    {
      "cell_type": "code",
      "metadata": {
        "id": "gXlL3P5PGQoA",
        "colab_type": "code",
        "colab": {}
      },
      "source": [
        "f = model1.predict(x)\n",
        "f = f.reshape(f.shape[3])\n",
        "t = np.zeros([4])"
      ],
      "execution_count": 0,
      "outputs": []
    },
    {
      "cell_type": "code",
      "metadata": {
        "id": "sq070kUPGQoB",
        "colab_type": "code",
        "colab": {}
      },
      "source": [
        "# X = [f]\n",
        "# y = [t]\n",
        "data = [[f,t]]\n",
        "imagePath = \"E:\\\\notebooks\\\\final\\\\500\\\\\"\n",
        "allImageInDir=os.listdir(imagePath)\n",
        "t = np.zeros([4])\n",
        "t[0] = 1\n",
        "for i in allImageInDir:\n",
        "    img = image.load_img(imagePath + i, target_size=(224, 224))\n",
        "    x = image.img_to_array(img)\n",
        "    x = np.expand_dims(x, axis=0)\n",
        "    x = preprocess_input(x)\n",
        "    f = model1.predict(x)\n",
        "    f = f.reshape(f.shape[3])\n",
        "#     X = np.vstack([X,f])\n",
        "#     y = np.vstack([y,t])\n",
        "    data = np.vstack([data,[f,t]])\n",
        "imagePath = \"E:\\\\notebooks\\\\final\\\\1000\\\\\"\n",
        "allImageInDir=os.listdir(imagePath)\n",
        "t = np.zeros([4])\n",
        "t[1] = 1\n",
        "for i in allImageInDir:\n",
        "    img = image.load_img(imagePath + i, target_size=(224, 224))\n",
        "    x = image.img_to_array(img)\n",
        "    x = np.expand_dims(x, axis=0)\n",
        "    x = preprocess_input(x)\n",
        "    f = model1.predict(x)\n",
        "    f = f.reshape(f.shape[3])\n",
        "#     X = np.vstack([X,f])\n",
        "#     y = np.vstack([y,t])\n",
        "    data = np.vstack([data,[f,t]])\n",
        "imagePath = \"E:\\\\notebooks\\\\final\\\\2000\\\\\"\n",
        "allImageInDir=os.listdir(imagePath)\n",
        "t = np.zeros([4])\n",
        "t[2] = 1\n",
        "for i in allImageInDir:\n",
        "    img = image.load_img(imagePath + i, target_size=(224, 224))\n",
        "    x = image.img_to_array(img)\n",
        "    x = np.expand_dims(x, axis=0)\n",
        "    x = preprocess_input(x)\n",
        "    f = model1.predict(x)\n",
        "    f = f.reshape(f.shape[3])\n",
        "#     X = np.vstack([X,f])\n",
        "#     y = np.vstack([y,t])\n",
        "    data = np.vstack([data,[f,t]])\n",
        "imagePath = \"E:\\\\notebooks\\\\final\\\\3000\\\\\"\n",
        "allImageInDir=os.listdir(imagePath)\n",
        "t = np.zeros([4])\n",
        "t[3] = 1\n",
        "for i in allImageInDir:\n",
        "    img = image.load_img(imagePath + i, target_size=(224, 224))\n",
        "    x = image.img_to_array(img)\n",
        "    x = np.expand_dims(x, axis=0)\n",
        "    x = preprocess_input(x)\n",
        "    f = model1.predict(x)\n",
        "    f = f.reshape(f.shape[3])\n",
        "#     X = np.vstack([X,f])\n",
        "#     y = np.vstack([y,t])\n",
        "    data = np.vstack([data,[f,t]])\n",
        "# X = np.delete(X, (0), axis=0)\n",
        "# y = np.delete(y, (0), axis=0)\n",
        "data = np.delete(data, (0), axis=0)"
      ],
      "execution_count": 0,
      "outputs": []
    },
    {
      "cell_type": "code",
      "metadata": {
        "id": "8HgJuLqcGQoC",
        "colab_type": "code",
        "colab": {}
      },
      "source": [
        "train, test = train_test_split(data, shuffle = True, random_state = 5,test_size = 0.25)"
      ],
      "execution_count": 0,
      "outputs": []
    },
    {
      "cell_type": "code",
      "metadata": {
        "id": "r4cQHsh4GQoE",
        "colab_type": "code",
        "colab": {}
      },
      "source": [
        "X = np.zeros(1000)\n",
        "y = np.zeros(4)\n",
        "for i in range(len(train)):\n",
        "    X = np.vstack([X,train[:,0][i]])\n",
        "    y = np.vstack([y,train[:,1][i]])\n",
        "X = np.delete(X, (0), axis=0)\n",
        "y = np.delete(y, (0), axis=0)"
      ],
      "execution_count": 0,
      "outputs": []
    },
    {
      "cell_type": "code",
      "metadata": {
        "id": "FPpEMLLgGQoG",
        "colab_type": "code",
        "colab": {}
      },
      "source": [
        "X_train.shape"
      ],
      "execution_count": 0,
      "outputs": []
    },
    {
      "cell_type": "code",
      "metadata": {
        "id": "mghK2aoRGQoI",
        "colab_type": "code",
        "colab": {}
      },
      "source": [
        "    img = image.load_img(\"aa.png\", target_size=(224, 224))\n",
        "    x = image.img_to_array(img)\n",
        "    x = np.expand_dims(x, axis=0)\n",
        "    x = preprocess_input(x)\n",
        "    f = model1.predict(x)\n",
        "    f = f.reshape(f.shape[3])\n",
        "    pre= model.predict(np.array([f]))"
      ],
      "execution_count": 0,
      "outputs": []
    },
    {
      "cell_type": "code",
      "metadata": {
        "id": "AmAuf8ZWGQoJ",
        "colab_type": "code",
        "colab": {}
      },
      "source": [
        "print(pre)"
      ],
      "execution_count": 0,
      "outputs": []
    },
    {
      "cell_type": "code",
      "metadata": {
        "id": "w4cX0doqGQoK",
        "colab_type": "code",
        "colab": {}
      },
      "source": [
        "int(np.array_equal(y[1], pred_y[1]))"
      ],
      "execution_count": 0,
      "outputs": []
    },
    {
      "cell_type": "code",
      "metadata": {
        "id": "ZKgJ5J9DGQoL",
        "colab_type": "code",
        "colab": {}
      },
      "source": [
        "pred_y[1]"
      ],
      "execution_count": 0,
      "outputs": []
    },
    {
      "cell_type": "code",
      "metadata": {
        "id": "-lZTirlyGQoM",
        "colab_type": "code",
        "colab": {}
      },
      "source": [
        "model.predict(np.array([test[50,0]]))"
      ],
      "execution_count": 0,
      "outputs": []
    },
    {
      "cell_type": "code",
      "metadata": {
        "id": "eIFjID0PGQoN",
        "colab_type": "code",
        "colab": {}
      },
      "source": [
        ""
      ],
      "execution_count": 0,
      "outputs": []
    },
    {
      "cell_type": "code",
      "metadata": {
        "id": "59LgooO1GQoO",
        "colab_type": "code",
        "colab": {}
      },
      "source": [
        ""
      ],
      "execution_count": 0,
      "outputs": []
    },
    {
      "cell_type": "code",
      "metadata": {
        "id": "nh7_Rv0vGQoP",
        "colab_type": "code",
        "colab": {}
      },
      "source": [
        ""
      ],
      "execution_count": 0,
      "outputs": []
    },
    {
      "cell_type": "code",
      "metadata": {
        "id": "rwZ02AUgGQoP",
        "colab_type": "code",
        "colab": {}
      },
      "source": [
        ""
      ],
      "execution_count": 0,
      "outputs": []
    },
    {
      "cell_type": "code",
      "metadata": {
        "id": "rMg3rEsuGQoR",
        "colab_type": "code",
        "colab": {}
      },
      "source": [
        "# data = [[np.zeros([1,1000]),[1,0,0]]]\n",
        "# imagePath = \"E:\\\\notebooks\\\\keras-image-classification\\\\500\\\\\"\n",
        "# allImageInDir=os.listdir(imagePath)\n",
        "# for i in allImageInDir:\n",
        "#     img = image.load_img(imagePath + i, target_size=(224, 224))\n",
        "#     x = image.img_to_array(img)\n",
        "#     x = np.expand_dims(x, axis=0)\n",
        "#     x = preprocess_input(x)\n",
        "#     f = model.predict(x)\n",
        "#     f = f.reshape(f.shape[3])\n",
        "#     data = np.vstack([data, [f,np.array([[1,0,0]])]])\n",
        "# imagePath = \"E:\\\\notebooks\\\\keras-image-classification\\\\1000\\\\\"\n",
        "# allImageInDir=os.listdir(imagePath)\n",
        "# for i in allImageInDir:\n",
        "#     img = image.load_img(imagePath + i, target_size=(224, 224))\n",
        "#     x = image.img_to_array(img)\n",
        "#     x = np.expand_dims(x, axis=0)\n",
        "#     x = preprocess_input(x)\n",
        "#     f = model.predict(x)\n",
        "#     f = f.reshape(f.shape[3])\n",
        "#     data = np.vstack([data, [f,np.array([[0,1,0]])]])\n",
        "# imagePath = \"E:\\\\notebooks\\\\keras-image-classification\\\\2000\\\\\"\n",
        "# allImageInDir=os.listdir(imagePath)\n",
        "# for i in allImageInDir:\n",
        "#     img = image.load_img(imagePath + i, target_size=(224, 224))\n",
        "#     x = image.img_to_array(img)\n",
        "#     x = np.expand_dims(x, axis=0)\n",
        "#     x = preprocess_input(x)\n",
        "#     f = model.predict(x)\n",
        "#     f = f.reshape(f.shape[3])\n",
        "#     data = np.vstack([data, [f,np.array([[0,0,1]])]])\n",
        "# data = np.delete(data, (0), axis=0)\n",
        "# len(data)"
      ],
      "execution_count": 0,
      "outputs": []
    },
    {
      "cell_type": "code",
      "metadata": {
        "id": "mKnrIMu_GQoS",
        "colab_type": "code",
        "colab": {}
      },
      "source": [
        ""
      ],
      "execution_count": 0,
      "outputs": []
    },
    {
      "cell_type": "code",
      "metadata": {
        "id": "ILMFM7E-GQoT",
        "colab_type": "code",
        "colab": {}
      },
      "source": [
        ""
      ],
      "execution_count": 0,
      "outputs": []
    },
    {
      "cell_type": "code",
      "metadata": {
        "id": "gsvVSPZvGQoU",
        "colab_type": "code",
        "colab": {}
      },
      "source": [
        ""
      ],
      "execution_count": 0,
      "outputs": []
    },
    {
      "cell_type": "code",
      "metadata": {
        "id": "5grbLAPfGQoV",
        "colab_type": "code",
        "colab": {}
      },
      "source": [
        ""
      ],
      "execution_count": 0,
      "outputs": []
    }
  ]
}